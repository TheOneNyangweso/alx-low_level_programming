{
 "cells": [
  {
   "cell_type": "code",
   "execution_count": 61,
   "metadata": {},
   "outputs": [],
   "source": [
    "#!/usr/bin/python3\n",
    "\n",
    "\"\"\"\n",
    "** Island Perimeter **\n",
    "\n",
    "Technical interview preparation:\n",
    "\n",
    "You are not allowed to google anything\n",
    "Whiteboard first\n",
    "Create a function def island_perimeter(grid): that returns the perimeter\n",
    "of the island described in grid:\n",
    "\n",
    "grid is a list of list of integers:\n",
    "0 represents a water zone\n",
    "1 represents a land zone\n",
    "One cell is a square with side length 1\n",
    "Grid cells are connected horizontally/vertically (not diagonally).\n",
    "Grid is rectangular, width and height don't exceed 100\n",
    "Grid is completely surrounded by water, and there is one island (or nothing).\n",
    "The island doesn't have “lakes” (water inside that isn't connected to\n",
    "the water around the island).\n",
    "\n",
    "Requirements:\n",
    "\n",
    "First line contains #!/usr/bin/python3\n",
    "You are not allowed to import any module\n",
    "Module and function must be documented\n",
    "\n",
    "\"\"\"\n",
    "\n",
    "\n",
    "def island_perimeter(grid):\n",
    "    \"\"\"function that returns the perimeter of the island described in grid.\n",
    "\n",
    "    Args:\n",
    "        grid (arr): a list of list of integers.\n",
    "\n",
    "    Returns:\n",
    "        perimeter of the island.\n",
    "    \"\"\"\n",
    "    perimeter = 0\n",
    "    count_of_ones = sum([a.count(1) for a in grid])\n",
    "\n",
    "    if count_of_ones <= 0:\n",
    "        return 0\n",
    "    if count_of_ones == 1:\n",
    "        return 4\n",
    "    else:\n",
    "        for row in range(len(grid)):\n",
    "            for col in range(len(grid[0])):\n",
    "                if grid[row][col] == 1:\n",
    "                    perimeter += 4\n",
    "                    # Removing the 2 connected sides\n",
    "                    if row > 0 and grid[row - 1][col] == 1:\n",
    "                        perimeter -= 2\n",
    "                    if col > 0 and grid[row][col-1] == 1:\n",
    "                        perimeter -= 2\n",
    "        # length = [ls.count(1) for ls in grid if ls.count(1) > 0]\n",
    "        # perimeter = (max(length) + len(length)) * 2\n",
    "\n",
    "    return perimeter"
   ]
  },
  {
   "cell_type": "markdown",
   "metadata": {},
   "source": [
    "- Problem is here with an irregularly shaped island...output should be 16 in this case\n"
   ]
  },
  {
   "cell_type": "code",
   "execution_count": 62,
   "metadata": {},
   "outputs": [
    {
     "data": {
      "text/plain": [
       "16"
      ]
     },
     "execution_count": 62,
     "metadata": {},
     "output_type": "execute_result"
    }
   ],
   "source": [
    "grid = [\n",
    "    [0, 0, 0, 0, 0],\n",
    "    [0, 1, 1, 0, 0],\n",
    "    [0, 1, 0, 1, 0],\n",
    "    [0, 1, 1, 1, 0],\n",
    "    [0, 0, 0, 0, 0]\n",
    "]\n",
    "\n",
    "island_perimeter(grid)"
   ]
  },
  {
   "cell_type": "code",
   "execution_count": null,
   "metadata": {},
   "outputs": [],
   "source": []
  }
 ],
 "metadata": {
  "kernelspec": {
   "display_name": "base",
   "language": "python",
   "name": "python3"
  },
  "language_info": {
   "codemirror_mode": {
    "name": "ipython",
    "version": 3
   },
   "file_extension": ".py",
   "mimetype": "text/x-python",
   "name": "python",
   "nbconvert_exporter": "python",
   "pygments_lexer": "ipython3",
   "version": "3.11.4"
  }
 },
 "nbformat": 4,
 "nbformat_minor": 2
}
